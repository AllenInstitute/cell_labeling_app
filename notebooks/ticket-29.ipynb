{
 "cells": [
  {
   "cell_type": "markdown",
   "id": "f9f9e9e3",
   "metadata": {},
   "source": [
    "Sampling for CellApp Training\n",
    "========================\n",
    "\n",
    "Below is a quick bit of code that was used to select a set of experiments and regions for the labeling effort. The charges were to: sample in depth; make sure a representative set of \"problem experiments\" (listed below) make it in the sample; make sure a set of 3P exeriments are also sampled (exeriments starting with 8).\n",
    "\n",
    "The sampling chosen was to sample uniformly for each unique value of depth and sample experiments without replacement."
   ]
  },
  {
   "cell_type": "code",
   "execution_count": 1,
   "id": "1e0b5b24",
   "metadata": {},
   "outputs": [],
   "source": [
    "import h5py\n",
    "import json\n",
    "import matplotlib.pyplot as plt\n",
    "import numpy as np\n",
    "import pandas as pd"
   ]
  },
  {
   "cell_type": "markdown",
   "id": "b3fb7358",
   "metadata": {},
   "source": [
    "Load experiment metadata."
   ]
  },
  {
   "cell_type": "code",
   "execution_count": 2,
   "id": "8285b36b",
   "metadata": {},
   "outputs": [],
   "source": [
    "json_data = json.load(open('/allen/programs/mindscope/workgroups/surround/'\n",
    "                           'select_validation/ssf_metadata.json'))"
   ]
  },
  {
   "cell_type": "markdown",
   "id": "454d4770",
   "metadata": {},
   "source": [
    "Load data for experiment id, depth and experiment type (2P vs 3P) and drop into a DataFrame."
   ]
  },
  {
   "cell_type": "code",
   "execution_count": 3,
   "id": "3425b3df",
   "metadata": {},
   "outputs": [],
   "source": [
    "exp_depths = []\n",
    "for key, data in json_data.items():\n",
    "    exp_depths.append({'exp_id': int(key), \n",
    "                       'depth': data['imaging_depth'],\n",
    "                       'type': 2 if int(key[0]) < 8 else 3})\n",
    "exp_depths = pd.DataFrame(exp_depths)"
   ]
  },
  {
   "cell_type": "markdown",
   "id": "4e875547",
   "metadata": {},
   "source": [
    "Plot the unique values of depth split by experiment type."
   ]
  },
  {
   "cell_type": "code",
   "execution_count": 4,
   "id": "8c45da05",
   "metadata": {},
   "outputs": [
    {
     "data": {
      "text/plain": [
       "<matplotlib.legend.Legend at 0x7fde12f76400>"
      ]
     },
     "execution_count": 4,
     "metadata": {},
     "output_type": "execute_result"
    },
    {
     "data": {
      "image/png": "[encoded data removed]",
      "text/plain": [
       "<Figure size 360x360 with 1 Axes>"
      ]
     },
     "metadata": {
      "needs_background": "light"
     },
     "output_type": "display_data"
    }
   ],
   "source": [
    "unique_depth_2p, count_2p = np.unique(\n",
    "    exp_depths[exp_depths['type'] == 2]['depth'].to_numpy(), return_counts=True)\n",
    "unique_depth_3p, count_3p = np.unique(\n",
    "    exp_depths[exp_depths['type'] == 3]['depth'].to_numpy(), return_counts=True)\n",
    "plt.figure(figsize=(5, 5))\n",
    "plt.xlabel(\"depth [um]\")\n",
    "plt.ylabel(\"count\")\n",
    "plt.plot(unique_depth_2p, count_2p, 'o', label='2P experiments')\n",
    "plt.plot(unique_depth_3p, count_3p, 'o', label='3P experiments')\n",
    "plt.legend(loc=0)"
   ]
  },
  {
   "cell_type": "markdown",
   "id": "5c1a1003",
   "metadata": {},
   "source": [
    "Find the unique values of depth across experiments."
   ]
  },
  {
   "cell_type": "code",
   "execution_count": 5,
   "id": "3d53449f",
   "metadata": {},
   "outputs": [],
   "source": [
    "unique_depths = np.unique(exp_depths['depth'])"
   ]
  },
  {
   "cell_type": "markdown",
   "id": "316090f9",
   "metadata": {},
   "source": [
    "Randomly sub sample experiements without replacement from each unique depth with equal probablity."
   ]
  },
  {
   "cell_type": "code",
   "execution_count": 6,
   "id": "2d92bec5",
   "metadata": {
    "scrolled": false
   },
   "outputs": [],
   "source": [
    "# Seed with the first experiment's id.\n",
    "rng = np.random.default_rng(exp_depths['exp_id'][0])\n",
    "# List to store selected experiments.\n",
    "selected_exp_ids = []\n",
    "n_samples = 80\n",
    "while len(selected_exp_ids) < n_samples:\n",
    "    # Randomly select a unique depth.\n",
    "    depth_bin = unique_depths[rng.integers(0, len(unique_depths))]\n",
    "    # Find all experiments that have this unique depth.\n",
    "    sub_exp_ids = exp_depths['exp_id'][exp_depths['depth'] == depth_bin].to_numpy()\n",
    "    # Randomly grab an experiment id from the list of ids with this depth.\n",
    "    exp_id = sub_exp_ids[rng.integers(0, len(sub_exp_ids))]\n",
    "    # If we have already selected this experiment, discard this draw and continue.\n",
    "    if exp_id in selected_exp_ids:\n",
    "        continue\n",
    "    # Append the selected id.\n",
    "    selected_exp_ids.append(exp_id)"
   ]
  },
  {
   "cell_type": "code",
   "execution_count": 7,
   "id": "6fb4da67",
   "metadata": {},
   "outputs": [
    {
     "data": {
      "text/plain": [
       "array([774392903, 774392931, 774392958, 774393041, 783605202, 783605213,\n",
       "       783605225, 783605236, 783605259, 783623253, 783623286, 784370396,\n",
       "       784370407, 784370431, 784388288, 784388321, 784388343, 785569423,\n",
       "       785569436, 785569447, 785569459, 786334337, 786334350, 786334394,\n",
       "       786400863, 786400874, 786400885, 787473465, 787473478, 787473500,\n",
       "       787473512, 788422836, 788422870, 790118127, 790122271, 790122293,\n",
       "       790122304, 790623924, 790623944, 790624009, 790624031, 790986879,\n",
       "       790986890, 791920168, 791920202, 792757238, 792757272, 792757295,\n",
       "       792765535, 792765546, 792765582, 793618831, 793618875, 794123773,\n",
       "       794123785, 794288307, 794288320, 794288331, 794288342, 794288353,\n",
       "       794298187, 794298198, 794298220, 795011974, 795012030, 795018546,\n",
       "       795018557, 795018579, 795897800, 795901861, 795901873, 803616717,\n",
       "       803958257, 803959659, 803965468, 806844147, 806847865, 806854201,\n",
       "       806856553, 806928824])"
      ]
     },
     "execution_count": 7,
     "metadata": {},
     "output_type": "execute_result"
    }
   ],
   "source": [
    "np.sort(selected_exp_ids)"
   ]
  },
  {
   "cell_type": "markdown",
   "id": "6338fcd1",
   "metadata": {},
   "source": [
    "Check to see how many of the problematic experiments there are in this sample. There are 10 so in the full sample the fraction is 0.0625."
   ]
  },
  {
   "cell_type": "code",
   "execution_count": 8,
   "id": "1827284f",
   "metadata": {},
   "outputs": [
    {
     "data": {
      "text/plain": [
       "0.075"
      ]
     },
     "execution_count": 8,
     "metadata": {},
     "output_type": "execute_result"
    }
   ],
   "source": [
    "problematic_exp_ids = [774393041, 783605247, 783605259, 784388321, 784388332,\n",
    "                       784388343, 785569470, 794298198, 794298209, 794298220]\n",
    "np.isin(problematic_exp_ids, selected_exp_ids).sum() / n_samples"
   ]
  },
  {
   "cell_type": "markdown",
   "id": "4ec2487a",
   "metadata": {},
   "source": [
    "Check to see how many of the 3P experiments there are in this sample. There are 10 so in the full sample the fraction is 0.0625."
   ]
  },
  {
   "cell_type": "code",
   "execution_count": 9,
   "id": "5598769e",
   "metadata": {},
   "outputs": [
    {
     "data": {
      "text/plain": [
       "0.1125"
      ]
     },
     "execution_count": 9,
     "metadata": {},
     "output_type": "execute_result"
    }
   ],
   "source": [
    "np.isin(exp_depths['exp_id'][exp_depths['type'] == 3].to_numpy(),\n",
    "        selected_exp_ids).sum() / n_samples"
   ]
  },
  {
   "cell_type": "markdown",
   "id": "6859fb1c",
   "metadata": {},
   "source": [
    "Randomly pick a set of regions for each experiment. Create a dictionary to write to json."
   ]
  },
  {
   "cell_type": "code",
   "execution_count": 10,
   "id": "344dad0f",
   "metadata": {},
   "outputs": [],
   "source": [
    "output_dict = {}\n",
    "rng = np.random.default_rng(1234)\n",
    "for exp_id in selected_exp_ids:\n",
    "    output_dict[int(exp_id)] = {\"regions\": np.sort(rng.permutation(np.arange(0, 9))[:3]).tolist()}"
   ]
  },
  {
   "cell_type": "markdown",
   "id": "1f54a2a4",
   "metadata": {},
   "source": [
    "Write experiment id, region samples to disk."
   ]
  },
  {
   "cell_type": "code",
   "execution_count": 11,
   "id": "66da5a84",
   "metadata": {},
   "outputs": [],
   "source": [
    "with open('/allen/aibs/informatics/chris.morrison/ticket-29/cell_app_sample.json', 'w') as jfile:\n",
    "    json.dump(output_dict, jfile, indent=2)"
   ]
  },
  {
   "cell_type": "code",
   "execution_count": null,
   "id": "73115f08",
   "metadata": {},
   "outputs": [],
   "source": []
  }
 ],
 "metadata": {
  "kernelspec": {
   "display_name": "Python 3 (ipykernel)",
   "language": "python",
   "name": "python3"
  },
  "language_info": {
   "codemirror_mode": {
    "name": "ipython",
    "version": 3
   },
   "file_extension": ".py",
   "mimetype": "text/x-python",
   "name": "python",
   "nbconvert_exporter": "python",
   "pygments_lexer": "ipython3",
   "version": "3.9.7"
  }
 },
 "nbformat": 4,
 "nbformat_minor": 5
}
